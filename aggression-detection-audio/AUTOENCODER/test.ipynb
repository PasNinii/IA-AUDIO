{
 "metadata": {
  "language_info": {
   "codemirror_mode": {
    "name": "ipython",
    "version": 3
   },
   "file_extension": ".py",
   "mimetype": "text/x-python",
   "name": "python",
   "nbconvert_exporter": "python",
   "pygments_lexer": "ipython3",
   "version": 3
  },
  "orig_nbformat": 2
 },
 "nbformat": 4,
 "nbformat_minor": 2,
 "cells": [
  {
   "cell_type": "code",
   "execution_count": null,
   "metadata": {},
   "outputs": [],
   "source": [
    "import pandas as pd\n",
    "\n",
    "df = pd.read_csv(\"resources/UrbanSound8K/metadata/UrbanSound8K_original.csv\")"
   ]
  },
  {
   "cell_type": "code",
   "execution_count": null,
   "metadata": {},
   "outputs": [],
   "source": [
    "def _get_classes(df):\n",
    "    \"\"\"Return classes name\n",
    "\n",
    "    Args:\n",
    "        df (pd.DataFrame): DataFrame containing informations about urbansounds file\n",
    "\n",
    "    Returns:\n",
    "        df (list): Return a list containing the classes label\n",
    "    \"\"\"\n",
    "    c_col = df.columns[0]\n",
    "    idx_col = df.columns[1]\n",
    "    return df.drop_duplicates().sort_values(idx_col)[c_col].unique()"
   ]
  }
 ]
}